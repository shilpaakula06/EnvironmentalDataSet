{
  "nbformat": 4,
  "nbformat_minor": 0,
  "metadata": {
    "colab": {
      "provenance": [],
      "authorship_tag": "ABX9TyOWubMNsNNiAvHfPGw2qpD6",
      "include_colab_link": true
    },
    "kernelspec": {
      "name": "python3",
      "display_name": "Python 3"
    },
    "language_info": {
      "name": "python"
    }
  },
  "cells": [
    {
      "cell_type": "markdown",
      "metadata": {
        "id": "view-in-github",
        "colab_type": "text"
      },
      "source": [
        "<a href=\"https://colab.research.google.com/github/shilpaakula06/EnvironmentalDataSet/blob/main/SteerterPhelpsAndDOcalculation.ipynb\" target=\"_parent\"><img src=\"https://colab.research.google.com/assets/colab-badge.svg\" alt=\"Open In Colab\"/></a>"
      ]
    },
    {
      "cell_type": "markdown",
      "source": [
        "** Write a Spreadsheet program/ R/ Python to generate DO levels in the downstream portion of a wastewater out fall a given set of values of BOD5/ L0 of river and WW for a given set of temperature in river and WW. Use Streeter-Phelps Formulation  a)    Saturation DO calculation (should be able to calculate saturation DO using standard equation as discussed in class if not given)\n",
        "\n",
        "b)    Kr or Kd\n",
        "\n",
        "c)    Mix DO / L0**"
      ],
      "metadata": {
        "id": "tLnyK-rbSiDL"
      }
    },
    {
      "cell_type": "code",
      "execution_count": 9,
      "metadata": {
        "colab": {
          "base_uri": "https://localhost:8080/"
        },
        "id": "LTDFozTpH2-g",
        "outputId": "16f51675-a53f-454a-c1ae-261cfcea4c5c"
      },
      "outputs": [
        {
          "output_type": "stream",
          "name": "stdout",
          "text": [
            "11.129464178867911\n"
          ]
        }
      ],
      "source": [
        "temperature =30\n",
        "import math\n",
        "\n",
        "def calculate_saturation_do(temperature):\n",
        "    \"\"\"\n",
        "    Calculate the saturation dissolved oxygen using the standard equation.\n",
        "    \"\"\"\n",
        "    # Constants for saturation DO calculation (adjust as needed)\n",
        "    A = 8.140\n",
        "    B = 2.77\n",
        "    C = 235.66\n",
        "    saturation_do = A * math.exp((B * temperature) / (C + temperature))\n",
        "    return saturation_do\n",
        "\n",
        "print(calculate_saturation_do(temperature))"
      ]
    },
    {
      "cell_type": "markdown",
      "source": [
        "\n",
        "\n",
        "### **Streeter Phelps**\n",
        "\n"
      ],
      "metadata": {
        "id": "OMG_3ohVSmem"
      }
    },
    {
      "cell_type": "code",
      "source": [
        "def streeter_phelps(do_river, do_ww, temperature_river, temperature_ww, bod5=None, l0=None, flow_rate_river=None, flow_rate_ww=None, k=None, kr=None, kd=None, mix_do=None):\n",
        "    \"\"\"\n",
        "    Calculate DO levels in the downstream portion using Streeter-Phelps formulation.\n",
        "    \"\"\"\n",
        "    # Calculate saturation DO if not provided\n",
        "    if mix_do is None:\n",
        "        saturation_do = calculate_saturation_do((temperature_river + temperature_ww) / 2)\n",
        "    else:\n",
        "        saturation_do = mix_do\n",
        "\n",
        "    # Calculate reaeration rate constant (K)\n",
        "    if k is None:\n",
        "        k = 0.027  # Default value, adjust as needed\n",
        "\n",
        "    # Calculate BOD5 if L0 is provided and vice versa\n",
        "    if bod5 is None and l0 is not None:\n",
        "        bod5 = l0 / k\n",
        "    elif l0 is None and bod5 is not None:\n",
        "        l0 = bod5 * k\n",
        "\n",
        "    # Calculate DO deficit at the outfall\n",
        "    do_deficit = (bod5 / (2 * k)) * (1 - math.exp(-2 * k * flow_rate_ww / flow_rate_river))\n",
        "\n",
        "    # Calculate reaeration term\n",
        "    reaeration_term = (do_river - saturation_do) * (1 - math.exp(-k * flow_rate_river / flow_rate_ww))\n",
        "\n",
        "    # Calculate DO at the outfall\n",
        "    do_outfall = do_ww + do_deficit + reaeration_term\n",
        "\n",
        "    return do_outfall\n",
        "\n",
        "# Example usage:\n",
        "do_river = 8.0  # DO in the river (mg/L)\n",
        "do_ww = 2.0    # DO in wastewater (mg/L)\n",
        "temperature_river = 20.0  # Temperature in the river (°C)\n",
        "temperature_ww = 15.0     # Temperature in wastewater (°C)\n",
        "flow_rate_river = 10.0    # Flow rate in the river (m3/s)\n",
        "flow_rate_ww = 2.0        # Flow rate in wastewater (m3/s)\n",
        "bod5 = 50.0               # BOD5 of wastewater (mg/L)\n",
        "\n",
        "do_result = streeter_phelps(do_river, do_ww, temperature_river, temperature_ww, bod5=bod5, flow_rate_river=flow_rate_river, flow_rate_ww=flow_rate_ww)\n",
        "print(f\"DO level at the outfall: {do_result} mg/L\")"
      ],
      "metadata": {
        "colab": {
          "base_uri": "https://localhost:8080/"
        },
        "id": "AQZSoxYWIg3K",
        "outputId": "f2f972e3-3c7d-4717-8755-e24d0f9dccfe"
      },
      "execution_count": 6,
      "outputs": [
        {
          "output_type": "stream",
          "name": "stdout",
          "text": [
            "DO level at the outfall: 11.711574761211883 mg/L\n"
          ]
        }
      ]
    }
  ]
}